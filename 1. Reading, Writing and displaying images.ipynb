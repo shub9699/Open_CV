{
 "cells": [
  {
   "cell_type": "markdown",
   "metadata": {},
   "source": [
    "### Reading the image file"
   ]
  },
  {
   "cell_type": "code",
   "execution_count": null,
   "metadata": {},
   "outputs": [],
   "source": [
    "# pip install opencv-python\n",
    "# pip install opencv-contrib-python"
   ]
  },
  {
   "cell_type": "code",
   "execution_count": 2,
   "metadata": {},
   "outputs": [],
   "source": [
    "import cv2"
   ]
  },
  {
   "cell_type": "code",
   "execution_count": 3,
   "metadata": {},
   "outputs": [],
   "source": [
    "# loading and converting the image into numpy array\n",
    "# printing the corresponding values\n",
    "image = cv2.imread(\"D:/Python/Open CV/Open CV basic/Data/cat.jpeg\")"
   ]
  },
  {
   "cell_type": "code",
   "execution_count": 4,
   "metadata": {},
   "outputs": [
    {
     "data": {
      "text/plain": [
       "array([[[241, 234, 231],\n",
       "        [241, 234, 231],\n",
       "        [242, 235, 232],\n",
       "        ...,\n",
       "        [245, 237, 230],\n",
       "        [245, 237, 230],\n",
       "        [245, 237, 230]],\n",
       "\n",
       "       [[241, 234, 231],\n",
       "        [241, 234, 231],\n",
       "        [242, 235, 232],\n",
       "        ...,\n",
       "        [246, 238, 231],\n",
       "        [246, 238, 231],\n",
       "        [246, 238, 231]],\n",
       "\n",
       "       [[241, 234, 231],\n",
       "        [242, 235, 232],\n",
       "        [242, 235, 232],\n",
       "        ...,\n",
       "        [246, 238, 231],\n",
       "        [246, 238, 231],\n",
       "        [246, 238, 231]],\n",
       "\n",
       "       ...,\n",
       "\n",
       "       [[250, 246, 245],\n",
       "        [250, 246, 245],\n",
       "        [250, 246, 245],\n",
       "        ...,\n",
       "        [252, 248, 247],\n",
       "        [252, 248, 247],\n",
       "        [252, 248, 247]],\n",
       "\n",
       "       [[250, 246, 245],\n",
       "        [250, 246, 245],\n",
       "        [250, 246, 245],\n",
       "        ...,\n",
       "        [252, 249, 245],\n",
       "        [252, 249, 245],\n",
       "        [252, 249, 245]],\n",
       "\n",
       "       [[250, 246, 245],\n",
       "        [250, 246, 245],\n",
       "        [250, 246, 245],\n",
       "        ...,\n",
       "        [252, 249, 245],\n",
       "        [252, 249, 245],\n",
       "        [252, 249, 245]]], dtype=uint8)"
      ]
     },
     "execution_count": 4,
     "metadata": {},
     "output_type": "execute_result"
    }
   ],
   "source": [
    "image"
   ]
  },
  {
   "cell_type": "code",
   "execution_count": 5,
   "metadata": {},
   "outputs": [
    {
     "data": {
      "text/plain": [
       "(332, 500, 3)"
      ]
     },
     "execution_count": 5,
     "metadata": {},
     "output_type": "execute_result"
    }
   ],
   "source": [
    "image.shape"
   ]
  },
  {
   "cell_type": "code",
   "execution_count": 6,
   "metadata": {},
   "outputs": [
    {
     "data": {
      "text/plain": [
       "498000"
      ]
     },
     "execution_count": 6,
     "metadata": {},
     "output_type": "execute_result"
    }
   ],
   "source": [
    "#total pixels in the image\n",
    "332 * 500 * 3"
   ]
  },
  {
   "cell_type": "code",
   "execution_count": 7,
   "metadata": {},
   "outputs": [
    {
     "name": "stdout",
     "output_type": "stream",
     "text": [
      "height : 332\n",
      "width : 500\n",
      "channels : 3\n"
     ]
    }
   ],
   "source": [
    "print(\"height : {}\".format(image.shape[0]))\n",
    "print(\"width : {}\".format(image.shape[1]))\n",
    "print(\"channels : {}\".format(image.shape[2]))"
   ]
  },
  {
   "cell_type": "code",
   "execution_count": 8,
   "metadata": {},
   "outputs": [],
   "source": [
    "# load image into cv2 window\n",
    "# wait for key press\n",
    "# write image into another format\n",
    "cv2.imshow(\"my cat image\", image)\n",
    "cv2.waitKey()\n",
    "cv2.destroyAllWindows()"
   ]
  },
  {
   "cell_type": "markdown",
   "metadata": {},
   "source": [
    "## writing the images to file"
   ]
  },
  {
   "cell_type": "code",
   "execution_count": 9,
   "metadata": {},
   "outputs": [
    {
     "data": {
      "text/plain": [
       "'D:\\\\Python\\\\Open CV\\\\Open CV basic'"
      ]
     },
     "execution_count": 9,
     "metadata": {},
     "output_type": "execute_result"
    }
   ],
   "source": [
    "pwd"
   ]
  },
  {
   "cell_type": "code",
   "execution_count": 10,
   "metadata": {},
   "outputs": [
    {
     "data": {
      "text/plain": [
       "True"
      ]
     },
     "execution_count": 10,
     "metadata": {},
     "output_type": "execute_result"
    }
   ],
   "source": [
    "cv2.imwrite(\"new_cat.jpg\", image)"
   ]
  },
  {
   "cell_type": "markdown",
   "metadata": {},
   "source": [
    "### Get and Set "
   ]
  },
  {
   "cell_type": "code",
   "execution_count": 11,
   "metadata": {},
   "outputs": [],
   "source": [
    "image = cv2.imread(\"D:/Python/Open CV/Open CV basic/Data/cat.jpeg\")"
   ]
  },
  {
   "cell_type": "code",
   "execution_count": 12,
   "metadata": {},
   "outputs": [],
   "source": [
    "cv2.imshow(\"my cat image\", image)\n",
    "cv2.waitKey()\n",
    "cv2.destroyAllWindows()"
   ]
  },
  {
   "cell_type": "code",
   "execution_count": 13,
   "metadata": {},
   "outputs": [],
   "source": [
    "# grab the 0,0 pixel of the image and print color values\n",
    "(b, g, r) = image[0,0]"
   ]
  },
  {
   "cell_type": "code",
   "execution_count": 14,
   "metadata": {},
   "outputs": [
    {
     "name": "stdout",
     "output_type": "stream",
     "text": [
      "Pixel at (0,0) - Red:231 Green:234 Blue:241\n"
     ]
    }
   ],
   "source": [
    "print(\"Pixel at (0,0) - Red:{} Green:{} Blue:{}\".format(r,g,b))"
   ]
  },
  {
   "cell_type": "code",
   "execution_count": 15,
   "metadata": {},
   "outputs": [
    {
     "name": "stdout",
     "output_type": "stream",
     "text": [
      "Pixel at (0,0) - Red: 255, Green: 0, Blue: 0\n"
     ]
    }
   ],
   "source": [
    "# change the color of the pixel at 0,0 and print again\n",
    "image[0,0] = (0,0,255)\n",
    "(b,g,r) = image[0,0]\n",
    "print(\"Pixel at (0,0) - Red: {}, Green: {}, Blue: {}\".format(r,g,b))"
   ]
  },
  {
   "cell_type": "code",
   "execution_count": 16,
   "metadata": {},
   "outputs": [],
   "source": [
    "cv2.imshow(\"output\", image)\n",
    "cv2.waitKey(0)\n",
    "cv2.destroyAllWindows()"
   ]
  },
  {
   "cell_type": "code",
   "execution_count": 17,
   "metadata": {},
   "outputs": [],
   "source": [
    "# grab the region and show in cv2 window\n",
    "corner = image[0:100, 0:100] # [y:height , x:width  ]"
   ]
  },
  {
   "cell_type": "code",
   "execution_count": 18,
   "metadata": {},
   "outputs": [
    {
     "data": {
      "text/plain": [
       "(100, 100, 3)"
      ]
     },
     "execution_count": 18,
     "metadata": {},
     "output_type": "execute_result"
    }
   ],
   "source": [
    "corner.shape"
   ]
  },
  {
   "cell_type": "code",
   "execution_count": 19,
   "metadata": {},
   "outputs": [],
   "source": [
    "cv2.imshow(\"corner image\", corner)\n",
    "cv2.waitKey(0)\n",
    "cv2.destroyAllWindows()"
   ]
  },
  {
   "cell_type": "code",
   "execution_count": 20,
   "metadata": {},
   "outputs": [],
   "source": [
    "# change color of the area of image\n",
    "image[0:100, 0:100] = (255,0,0)"
   ]
  },
  {
   "cell_type": "code",
   "execution_count": 21,
   "metadata": {},
   "outputs": [
    {
     "data": {
      "text/plain": [
       "(332, 500, 3)"
      ]
     },
     "execution_count": 21,
     "metadata": {},
     "output_type": "execute_result"
    }
   ],
   "source": [
    "image.shape"
   ]
  },
  {
   "cell_type": "code",
   "execution_count": 22,
   "metadata": {},
   "outputs": [],
   "source": [
    "cv2.imshow(\"Color area changed\", image)\n",
    "cv2.waitKey(0)\n",
    "cv2.destroyAllWindows()"
   ]
  },
  {
   "cell_type": "code",
   "execution_count": 23,
   "metadata": {},
   "outputs": [],
   "source": [
    "# change the color of the pixel at 0,0 and print again\n",
    "image[:20, : ] = (0,255,0)\n"
   ]
  },
  {
   "cell_type": "code",
   "execution_count": 24,
   "metadata": {},
   "outputs": [],
   "source": [
    "cv2.imshow(\"Color area changed\", image)\n",
    "cv2.waitKey(0)\n",
    "cv2.destroyAllWindows()"
   ]
  },
  {
   "cell_type": "code",
   "execution_count": null,
   "metadata": {},
   "outputs": [],
   "source": []
  }
 ],
 "metadata": {
  "kernelspec": {
   "display_name": "Python 3",
   "language": "python",
   "name": "python3"
  },
  "language_info": {
   "codemirror_mode": {
    "name": "ipython",
    "version": 3
   },
   "file_extension": ".py",
   "mimetype": "text/x-python",
   "name": "python",
   "nbconvert_exporter": "python",
   "pygments_lexer": "ipython3",
   "version": "3.7.4"
  }
 },
 "nbformat": 4,
 "nbformat_minor": 4
}
